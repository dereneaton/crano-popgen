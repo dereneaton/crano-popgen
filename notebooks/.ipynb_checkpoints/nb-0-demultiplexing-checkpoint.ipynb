{
 "cells": [
  {
   "cell_type": "markdown",
   "metadata": {},
   "source": [
    "## NB0: demultiplexing Pedicularis RAD data\n"
   ]
  },
  {
   "cell_type": "markdown",
   "metadata": {},
   "source": [
    "### Required software"
   ]
  },
  {
   "cell_type": "code",
   "execution_count": 24,
   "metadata": {
    "collapsed": true
   },
   "outputs": [],
   "source": [
    "# conda install ipyrad -c ipyrad"
   ]
  },
  {
   "cell_type": "code",
   "execution_count": 25,
   "metadata": {
    "collapsed": true
   },
   "outputs": [],
   "source": [
    "import ipyrad as ip\n",
    "import ipyparallel as ipp"
   ]
  },
  {
   "cell_type": "markdown",
   "metadata": {},
   "source": [
    "### Cluster setup\n",
    "The `ipcluster start` command below should be run in a terminal to start a parallel cluster.  "
   ]
  },
  {
   "cell_type": "code",
   "execution_count": 7,
   "metadata": {
    "collapsed": true
   },
   "outputs": [],
   "source": [
    "# ipcluster start --n=40"
   ]
  },
  {
   "cell_type": "code",
   "execution_count": 20,
   "metadata": {},
   "outputs": [
    {
     "name": "stdout",
     "output_type": "stream",
     "text": [
      "host compute node: [40 cores] on sacra\n"
     ]
    }
   ],
   "source": [
    "ipyclient = ipp.Client()\n",
    "ip.cluster_info(ipyclient)"
   ]
  },
  {
   "cell_type": "markdown",
   "metadata": {},
   "source": [
    "### The raw data files\n",
    "\n",
    "We sequenced three libraries. **1.** The first includes 95 samples of *P. cranolopha* on three lanes of Illumina HiSeq 2000. **2.** The second includes 48 samples of various *Pedicularis* species sequencing on one lane of Illumina HiSeq 2000. **3.** The third includes another set of 48 various *Pedicularis* species sequenced on one lane of Illumina HiSeq 2000. "
   ]
  },
  {
   "cell_type": "code",
   "execution_count": 26,
   "metadata": {
    "collapsed": true
   },
   "outputs": [],
   "source": [
    "# raw data files 1 (3 lanes of only cranolopha data; 95 samples)\n",
    "# lane5_NoIndex_L005_R1_0xx.fastq.gz (43 files) -- PEDICULARIS_1_BARCODES.txt\n",
    "# lane6_NoIndex_L005_R1_0xx.fastq.gz (41 files) -- PEDICULARIS_1_BARCODES.txt\n",
    "# lane7_NoIndex_L005_R1_0xx.fastq.gz (43 files) -- PEDICULARIS_1_BARCODES.txt\n",
    "\n",
    "# raw data files 2 (1 lane of 48 Pedicularis samples)\n",
    "# lane1_pedic_R1_0xx.fastq.gz (57 files) -- PEDICULARIS_2_BARCODES.txt\n",
    "\n",
    "# raw data files 3 (1 lane of 48 Pedicularis samples)\n",
    "# lane2_pedic_R1_0xx.fastq.gz (51 files) -- PEDICULARIS_3_BARCODES.txt"
   ]
  },
  {
   "cell_type": "code",
   "execution_count": 32,
   "metadata": {},
   "outputs": [
    {
     "name": "stdout",
     "output_type": "stream",
     "text": [
      "New Assembly: demux1\n"
     ]
    }
   ],
   "source": [
    "data1 = ip.Assembly(\"demux1\")\n",
    "data1.set_params(\"project_dir\", \"/home/deren/Documents/RADSEQ_DATA/demux_Pedicularis\")\n",
    "data1.set_params(\"raw_fastq_path\", \"/home/deren/Documents/RADSEQ_DATA/Pedicularis-lib1-cranolopha/*.gz\")\n",
    "data1.set_params(\"barcodes_path\", \"../Pedicularis_barcodes_1.txt\")"
   ]
  },
  {
   "cell_type": "code",
   "execution_count": 10,
   "metadata": {},
   "outputs": [
    {
     "name": "stdout",
     "output_type": "stream",
     "text": [
      "New Assembly: base\n"
     ]
    }
   ],
   "source": [
    "data2 = ip.Assembly(\"demux2\")\n",
    "data2.set_params(\"project_dir\", \"/home/deren/Documents/RADSEQ_DATA/demux_Pedicularis\")\n",
    "data2.set_params(\"raw_fastq_path\", \"/home/deren/Documents/RADSEQ_DATA/Pedicularis-lib2-species/*.gz\")\n",
    "data2.set_params(\"barcodes_path\", \"../Pedicularis_barcodes_2.txt\")"
   ]
  },
  {
   "cell_type": "code",
   "execution_count": 9,
   "metadata": {},
   "outputs": [
    {
     "name": "stdout",
     "output_type": "stream",
     "text": [
      "New Assembly: base\n"
     ]
    }
   ],
   "source": [
    "data3 = ip.Assembly(\"demux3\")\n",
    "data3.set_params(\"project_dir\", \"/home/deren/Documents/RADSEQ_DATA/demux_Pedicularis\")\n",
    "data3.set_params(\"raw_fastq_path\", \"/home/deren/Documents/RADSEQ_DATA/Pedicularis-lib3-species/*.gz\")\n",
    "data3.set_params(\"barcodes_path\", \"../Pedicularis_barcodes_3.txt\")"
   ]
  },
  {
   "cell_type": "code",
   "execution_count": 21,
   "metadata": {},
   "outputs": [
    {
     "name": "stdout",
     "output_type": "stream",
     "text": [
      "host compute node: [40 cores] on sacra\n",
      "Assembly: base\n",
      "[####################] 100%  sorting reads         | 0:23:38 | s1 | \n",
      "[####################] 100%  writing/compressing   | 0:09:37 | s1 | \n"
     ]
    }
   ],
   "source": [
    "data1.run(\"1\", ipyclient=ipyclient, show_cluster=True)"
   ]
  },
  {
   "cell_type": "code",
   "execution_count": null,
   "metadata": {
    "collapsed": true
   },
   "outputs": [],
   "source": [
    "data2.run(\"1\", ipyclient=ipyclient, show_cluster=True)"
   ]
  },
  {
   "cell_type": "code",
   "execution_count": null,
   "metadata": {
    "collapsed": true
   },
   "outputs": [],
   "source": [
    "data3.run(\"1\", ipyclient=ipyclient, show_cluster=True)"
   ]
  },
  {
   "cell_type": "code",
   "execution_count": null,
   "metadata": {
    "collapsed": true
   },
   "outputs": [],
   "source": []
  },
  {
   "cell_type": "code",
   "execution_count": null,
   "metadata": {
    "collapsed": true
   },
   "outputs": [],
   "source": []
  }
 ],
 "metadata": {
  "kernelspec": {
   "display_name": "Python 2",
   "language": "python",
   "name": "python2"
  },
  "language_info": {
   "codemirror_mode": {
    "name": "ipython",
    "version": 2
   },
   "file_extension": ".py",
   "mimetype": "text/x-python",
   "name": "python",
   "nbconvert_exporter": "python",
   "pygments_lexer": "ipython2",
   "version": "2.7.13"
  }
 },
 "nbformat": 4,
 "nbformat_minor": 2
}
